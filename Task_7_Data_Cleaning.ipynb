{
  "nbformat": 4,
  "nbformat_minor": 0,
  "metadata": {
    "colab": {
      "provenance": []
    },
    "kernelspec": {
      "name": "python3",
      "display_name": "Python 3"
    },
    "language_info": {
      "name": "python"
    }
  },
  "cells": [
    {
      "cell_type": "code",
      "execution_count": 1,
      "metadata": {
        "id": "7MkuPt29JdV2"
      },
      "outputs": [],
      "source": [
        "import pandas as pd"
      ]
    },
    {
      "cell_type": "code",
      "source": [
        "df = pd.read_csv(\"superstore.csv\")\n",
        "print(\"Initial dataset shape:\", df.shape)"
      ],
      "metadata": {
        "colab": {
          "base_uri": "https://localhost:8080/"
        },
        "id": "LPFDu17PJo7F",
        "outputId": "9f0faba3-77e1-41cf-ce9c-e382f373e9bc"
      },
      "execution_count": 2,
      "outputs": [
        {
          "output_type": "stream",
          "name": "stdout",
          "text": [
            "Initial dataset shape: (500, 6)\n"
          ]
        }
      ]
    },
    {
      "cell_type": "code",
      "source": [
        "print(\"\\nMissing values:\")\n",
        "print(df.isnull().sum())"
      ],
      "metadata": {
        "colab": {
          "base_uri": "https://localhost:8080/"
        },
        "id": "7F1n2B8CJz3X",
        "outputId": "1400eb2e-d979-49a8-b242-608aa7f30408"
      },
      "execution_count": 3,
      "outputs": [
        {
          "output_type": "stream",
          "name": "stdout",
          "text": [
            "\n",
            "Missing values:\n",
            "OrderID            0\n",
            "ProductCategory    0\n",
            "SubCategory        0\n",
            "Region             0\n",
            "Quantity           0\n",
            "Sales              0\n",
            "dtype: int64\n"
          ]
        }
      ]
    },
    {
      "cell_type": "code",
      "source": [
        "df = df.drop_duplicates()\n",
        "print(\"\\nAfter removing duplicates, shape:\", df.shape)"
      ],
      "metadata": {
        "colab": {
          "base_uri": "https://localhost:8080/"
        },
        "id": "3PF_tgZKJ5o6",
        "outputId": "82927fa9-318d-4563-b5d9-968453b2f608"
      },
      "execution_count": 4,
      "outputs": [
        {
          "output_type": "stream",
          "name": "stdout",
          "text": [
            "\n",
            "After removing duplicates, shape: (500, 6)\n"
          ]
        }
      ]
    },
    {
      "cell_type": "code",
      "source": [
        "df[\"OrderID\"] = df[\"OrderID\"].astype(int)"
      ],
      "metadata": {
        "id": "AK4kHzjbJ9_Y"
      },
      "execution_count": 5,
      "outputs": []
    },
    {
      "cell_type": "code",
      "source": [
        "df[\"Quantity\"] = pd.to_numeric(df[\"Quantity\"], errors=\"coerce\")\n",
        "df[\"Sales\"] = pd.to_numeric(df[\"Sales\"], errors=\"coerce\")"
      ],
      "metadata": {
        "id": "1eVsIWYsKBhA"
      },
      "execution_count": 6,
      "outputs": []
    },
    {
      "cell_type": "code",
      "source": [
        "df[\"TotalSales\"] = df[\"Quantity\"] * df[\"Sales\"]"
      ],
      "metadata": {
        "id": "O0ArXu4xKEpv"
      },
      "execution_count": 7,
      "outputs": []
    },
    {
      "cell_type": "code",
      "source": [
        "df_encoded = pd.get_dummies(df, columns=[\"ProductCategory\", \"SubCategory\", \"Region\"], drop_first=True)\n",
        "\n",
        "print(\"\\nFinal cleaned dataset sample:\")\n",
        "print(df.head())\n"
      ],
      "metadata": {
        "colab": {
          "base_uri": "https://localhost:8080/"
        },
        "id": "LAOwOG-BKH91",
        "outputId": "8f0af793-885b-4026-e8ed-4c98068a86df"
      },
      "execution_count": 11,
      "outputs": [
        {
          "output_type": "stream",
          "name": "stdout",
          "text": [
            "\n",
            "Final cleaned dataset sample:\n",
            "   OrderID ProductCategory SubCategory   Region  Quantity  Sales  TotalSales\n",
            "0        1      Technology      Phones     East         9    266        2394\n",
            "1        2       Furniture      Phones     East         2    142         284\n",
            "2        3      Technology     Binders  Central         9    285        2565\n",
            "3        4      Technology      Phones  Central         9    273        2457\n",
            "4        5       Furniture      Chairs     West         8    180        1440\n"
          ]
        }
      ]
    },
    {
      "cell_type": "code",
      "source": [
        "df.to_csv(\"superstore_clean.csv\", index=False)\n"
      ],
      "metadata": {
        "id": "y3hfFtmcKLYI"
      },
      "execution_count": 15,
      "outputs": []
    }
  ]
}